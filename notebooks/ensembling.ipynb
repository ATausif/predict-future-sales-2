{
 "cells": [
  {
   "cell_type": "markdown",
   "metadata": {
    "_uuid": "55f0ed2ac468f0eb59c24726ca0c9bdc8884c345"
   },
   "source": [
    "Ensembling with simple weighted average and linear regression. The first level models are lgb, xgb and neural network."
   ]
  },
  {
   "cell_type": "code",
   "execution_count": 1,
   "metadata": {
    "_cell_guid": "b1076dfc-b9ad-4769-8c92-a6c4dae69d19",
    "_uuid": "8f2839f25d086af736a60e9eeb907d3b93b6e0e5"
   },
   "outputs": [],
   "source": [
    "import numpy as np\n",
    "import pandas as pd\n",
    "from sklearn.metrics import mean_squared_error\n",
    "from sklearn.linear_model import Ridge, LinearRegression\n",
    "import gc"
   ]
  },
  {
   "cell_type": "markdown",
   "metadata": {
    "_uuid": "b37f26889499cbd5df4e44d235e35491d00b09cb"
   },
   "source": [
    "### Read second level features (first level model predictions) and targets from disk"
   ]
  },
  {
   "cell_type": "code",
   "execution_count": 2,
   "metadata": {},
   "outputs": [
    {
     "data": {
      "text/plain": [
       "7"
      ]
     },
     "execution_count": 2,
     "metadata": {},
     "output_type": "execute_result"
    }
   ],
   "source": [
    "data = pd.read_pickle('../output/data.pkl')\n",
    "Y_train_level2 = data[data.date_block_num == 33]['item_cnt_month']\n",
    "del data\n",
    "gc.collect()"
   ]
  },
  {
   "cell_type": "code",
   "execution_count": 3,
   "metadata": {
    "_uuid": "6ea5437e8949db6d3e54e68b7b0c18cd0befe38c"
   },
   "outputs": [],
   "source": [
    "X_train_level2 = pd.DataFrame()\n",
    "df = pd.read_csv('../output/lgb_valid.csv')\n",
    "X_train_level2['lgb'] = df['item_cnt_month']\n",
    "df = pd.read_csv('../output/xgb_valid.csv')\n",
    "X_train_level2['xgb'] = df['item_cnt_month'] \n",
    "df = pd.read_csv('../output/nn_valid.csv')\n",
    "X_train_level2['nn'] = df['item_cnt_month'] \n",
    "\n",
    "X_test_level2 = pd.DataFrame()\n",
    "df = pd.read_csv('../output/lgb_submission.csv')\n",
    "X_test_level2['lgb'] = df['item_cnt_month']\n",
    "df = pd.read_csv('../output/xgb_submission.csv')\n",
    "X_test_level2['xgb'] = df['item_cnt_month'] \n",
    "df = pd.read_csv('../output/nn_submission.csv')\n",
    "X_test_level2['nn'] = df['item_cnt_month'] "
   ]
  },
  {
   "cell_type": "markdown",
   "metadata": {},
   "source": [
    "### fit second level model"
   ]
  },
  {
   "cell_type": "code",
   "execution_count": 4,
   "metadata": {
    "_uuid": "a9a893ea58cdef774c250bff83151f83db235cd5"
   },
   "outputs": [
    {
     "name": "stdout",
     "output_type": "stream",
     "text": [
      "best alpha: 0.84\n",
      "weighted average of lgb and xgb validation rmse:  0.888324003454071\n"
     ]
    },
    {
     "name": "stderr",
     "output_type": "stream",
     "text": [
      "/usr/local/Cellar/python/3.6.5/Frameworks/Python.framework/Versions/3.6/lib/python3.6/site-packages/sklearn/linear_model/base.py:509: RuntimeWarning: internal gelsd driver lwork query error, required iwork dimension not returned. This is likely the result of LAPACK bug 0038, fixed in LAPACK 3.2.2 (released July 21, 2010). Falling back to 'gelss' driver.\n",
      "  linalg.lstsq(X, y)\n"
     ]
    },
    {
     "name": "stdout",
     "output_type": "stream",
     "text": [
      "Linear regression validation rmse:  0.8863685906116213\n"
     ]
    }
   ],
   "source": [
    "# simple weighted average\n",
    "# find best linear combination coefficient to weight \n",
    "best_alpha = 1;\n",
    "best_rmse = 100;\n",
    "for alpha in np.arange(0,1,0.02):\n",
    "    Y_pred_level2 = alpha*X_train_level2['lgb'] + (1-alpha)*X_train_level2['xgb']\n",
    "    rmse = np.sqrt(mean_squared_error(Y_train_level2, Y_pred_level2))\n",
    "    if (rmse<best_rmse):\n",
    "        best_rmse = rmse\n",
    "        best_alpha = alpha\n",
    "\n",
    "Y_test_level2 = best_alpha*X_test_level2['lgb'] + (1-best_alpha)*X_test_level2['xgb']\n",
    "print('best alpha:', best_alpha)\n",
    "print('weighted average of lgb and xgb validation rmse: ',best_rmse)\n",
    "submission = pd.DataFrame({\n",
    "    \"ID\": np.arange(Y_test_level2.shape[0]), \n",
    "    \"item_cnt_month\": Y_test_level2\n",
    "})\n",
    "submission.to_csv('../output/blended_submission1.csv', index=False)\n",
    "\n",
    "# Linear regression\n",
    "model = LinearRegression()\n",
    "model.fit(X_train_level2, Y_train_level2)\n",
    "Y_pred_level2 = model.predict(X_train_level2)\n",
    "Y_test_level2 = model.predict(X_test_level2)\n",
    "rmse = np.sqrt(mean_squared_error(Y_train_level2, Y_pred_level2))\n",
    "print('Linear regression validation rmse: ',rmse)\n",
    "submission = pd.DataFrame({\n",
    "    \"ID\": np.arange(Y_test_level2.shape[0]), \n",
    "    \"item_cnt_month\": Y_test_level2\n",
    "})\n",
    "submission.to_csv('../output/blended_submission2.csv', index=False)"
   ]
  },
  {
   "cell_type": "markdown",
   "metadata": {},
   "source": [
    "Public score:\n",
    "\n",
    "weighted average of lgb and xgb: 0.90338\n",
    "\n",
    "linear regression: 0.90255"
   ]
  },
  {
   "cell_type": "code",
   "execution_count": null,
   "metadata": {},
   "outputs": [],
   "source": []
  }
 ],
 "metadata": {
  "kernelspec": {
   "display_name": "Python 3",
   "language": "python",
   "name": "python3"
  },
  "language_info": {
   "codemirror_mode": {
    "name": "ipython",
    "version": 3
   },
   "file_extension": ".py",
   "mimetype": "text/x-python",
   "name": "python",
   "nbconvert_exporter": "python",
   "pygments_lexer": "ipython3",
   "version": "3.6.5"
  }
 },
 "nbformat": 4,
 "nbformat_minor": 1
}
