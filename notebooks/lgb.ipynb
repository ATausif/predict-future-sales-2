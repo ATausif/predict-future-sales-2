{
 "cells": [
  {
   "cell_type": "markdown",
   "metadata": {
    "_uuid": "55f0ed2ac468f0eb59c24726ca0c9bdc8884c345"
   },
   "source": [
    "This notebook fit LightGBMRegressor and dump results (as second level feature) to file for later ensembling. "
   ]
  },
  {
   "cell_type": "code",
   "execution_count": 1,
   "metadata": {
    "_cell_guid": "b1076dfc-b9ad-4769-8c92-a6c4dae69d19",
    "_uuid": "8f2839f25d086af736a60e9eeb907d3b93b6e0e5"
   },
   "outputs": [
    {
     "data": {
      "text/plain": [
       "sys.version_info(major=3, minor=6, micro=5, releaselevel='final', serial=0)"
      ]
     },
     "execution_count": 1,
     "metadata": {},
     "output_type": "execute_result"
    }
   ],
   "source": [
    "import numpy as np\n",
    "import pandas as pd\n",
    "from lightgbm import LGBMRegressor\n",
    "\n",
    "import time\n",
    "import sys\n",
    "import gc\n",
    "import pickle\n",
    "sys.version_info"
   ]
  },
  {
   "cell_type": "markdown",
   "metadata": {
    "_uuid": "b69932efb440af8f6435f3cd802fbcd15682af71",
    "collapsed": true
   },
   "source": [
    "## Read data from file, select features."
   ]
  },
  {
   "cell_type": "code",
   "execution_count": 3,
   "metadata": {
    "_uuid": "a54364495b1818e9f069efa0c53500bf9e21d5f9"
   },
   "outputs": [],
   "source": [
    "data = pd.read_pickle('../output/data.pkl')\n",
    "data = data[[\n",
    "    'date_block_num',\n",
    "    'shop_id',\n",
    "    #'item_id',\n",
    "    'item_cnt_month',\n",
    "    'city_code',\n",
    "    'item_category_id',\n",
    "    'type_code','subtype_code',\n",
    "    'item_cnt_month_lag_1','item_cnt_month_lag_2','item_cnt_month_lag_3','item_cnt_month_lag_6','item_cnt_month_lag_12',\n",
    "    'item_avg_sale_last_6', 'item_std_sale_last_6',\n",
    "    'item_avg_sale_last_12', 'item_std_sale_last_12',\n",
    "    'shop_avg_sale_last_6', 'shop_std_sale_last_6',\n",
    "    'shop_avg_sale_last_12', 'shop_std_sale_last_12',\n",
    "    'category_avg_sale_last_12', 'category_std_sale_last_12',\n",
    "    'city_avg_sale_last_12', 'city_std_sale_last_12',\n",
    "    'type_avg_sale_last_12', 'type_std_sale_last_12',\n",
    "    'subtype_avg_sale_last_12', 'subtype_std_sale_last_12',\n",
    "    'date_avg_item_cnt_lag_1',\n",
    "    'date_item_avg_item_cnt_lag_1','date_item_avg_item_cnt_lag_2','date_item_avg_item_cnt_lag_3','date_item_avg_item_cnt_lag_6','date_item_avg_item_cnt_lag_12',\n",
    "    'date_shop_avg_item_cnt_lag_1','date_shop_avg_item_cnt_lag_2','date_shop_avg_item_cnt_lag_3','date_shop_avg_item_cnt_lag_6','date_shop_avg_item_cnt_lag_12',\n",
    "    'date_cat_avg_item_cnt_lag_1',\n",
    "    'date_shop_cat_avg_item_cnt_lag_1',\n",
    "    'date_city_avg_item_cnt_lag_1',\n",
    "    'date_item_city_avg_item_cnt_lag_1',\n",
    "    'delta_price_lag',\n",
    "    'month','year',\n",
    "    'item_shop_last_sale','item_last_sale',\n",
    "    'item_shop_first_sale','item_first_sale',\n",
    "]]\n",
    "\n",
    "cat_feats = ['shop_id','city_code','item_category_id','type_code','subtype_code']"
   ]
  },
  {
   "cell_type": "markdown",
   "metadata": {
    "_uuid": "11eb4f2f5ada18aa8993ec55e8c63e80758fc19e"
   },
   "source": [
    "## Set up validation strategy\n",
    "\n",
    "Validation strategy is 34 month for the test set, 33 month for the validation set and 13-32 months for the train."
   ]
  },
  {
   "cell_type": "code",
   "execution_count": 4,
   "metadata": {
    "_uuid": "9af76d7b80064573a453e5e10c35b76fc31c47a4"
   },
   "outputs": [],
   "source": [
    "X_train = data[data.date_block_num < 33].drop(['item_cnt_month'], axis=1)\n",
    "Y_train = data[data.date_block_num < 33]['item_cnt_month']\n",
    "X_valid = data[data.date_block_num == 33].drop(['item_cnt_month'], axis=1)\n",
    "Y_valid = data[data.date_block_num == 33]['item_cnt_month']\n",
    "X_test = data[data.date_block_num == 34].drop(['item_cnt_month'], axis=1)\n",
    "\n",
    "del data\n",
    "gc.collect();"
   ]
  },
  {
   "cell_type": "markdown",
   "metadata": {
    "_uuid": "65da4e1e31a61cef33589b4a7cf3205137ad9f39"
   },
   "source": [
    "## LightGBM"
   ]
  },
  {
   "cell_type": "code",
   "execution_count": 5,
   "metadata": {
    "_uuid": "acef75c36501f808d45f81fc69f9708fc3283bc3"
   },
   "outputs": [
    {
     "name": "stderr",
     "output_type": "stream",
     "text": [
      "/usr/local/Cellar/python/3.6.5/Frameworks/Python.framework/Versions/3.6/lib/python3.6/site-packages/lightgbm/basic.py:1038: UserWarning: categorical_feature in Dataset is overridden. New categorical_feature is ['city_code', 'item_category_id', 'shop_id', 'subtype_code', 'type_code']\n",
      "  warnings.warn('categorical_feature in Dataset is overridden. New categorical_feature is {}'.format(sorted(list(categorical_feature))))\n"
     ]
    },
    {
     "name": "stdout",
     "output_type": "stream",
     "text": [
      "Training until validation scores don't improve for 40 rounds.\n",
      "[10]\ttraining's rmse: 0.914915\tvalid_1's rmse: 0.938257\n",
      "[20]\ttraining's rmse: 0.854046\tvalid_1's rmse: 0.900807\n",
      "[30]\ttraining's rmse: 0.833356\tvalid_1's rmse: 0.893525\n",
      "[40]\ttraining's rmse: 0.824059\tvalid_1's rmse: 0.891767\n",
      "[50]\ttraining's rmse: 0.817501\tvalid_1's rmse: 0.891756\n",
      "[60]\ttraining's rmse: 0.812441\tvalid_1's rmse: 0.891959\n",
      "[70]\ttraining's rmse: 0.807996\tvalid_1's rmse: 0.89115\n",
      "[80]\ttraining's rmse: 0.804783\tvalid_1's rmse: 0.891255\n",
      "[90]\ttraining's rmse: 0.802054\tvalid_1's rmse: 0.892814\n",
      "[100]\ttraining's rmse: 0.798941\tvalid_1's rmse: 0.892544\n",
      "[110]\ttraining's rmse: 0.796315\tvalid_1's rmse: 0.891893\n",
      "Early stopping, best iteration is:\n",
      "[79]\ttraining's rmse: 0.805149\tvalid_1's rmse: 0.890608\n"
     ]
    },
    {
     "data": {
      "text/plain": [
       "260.81095004081726"
      ]
     },
     "execution_count": 5,
     "metadata": {},
     "output_type": "execute_result"
    }
   ],
   "source": [
    "ts = time.time()\n",
    "\n",
    "model = LGBMRegressor(\n",
    "    max_depth = 8,\n",
    "    n_estimators = 500,\n",
    "    colsample_bytree=0.7,\n",
    "    min_child_weight = 300,\n",
    "    reg_alpha = 0.1,\n",
    "    reg_lambda = 1,\n",
    "    random_state = 42,\n",
    ")\n",
    "\n",
    "model.fit(\n",
    "    X_train, \n",
    "    Y_train, \n",
    "    eval_metric=\"rmse\", \n",
    "    eval_set=[(X_train, Y_train), (X_valid, Y_valid)], \n",
    "    verbose=10, \n",
    "    early_stopping_rounds = 40,\n",
    "    categorical_feature = cat_feats) # use LGBM's build-in categroical features.\n",
    "\n",
    "time.time() - ts"
   ]
  },
  {
   "cell_type": "code",
   "execution_count": 9,
   "metadata": {
    "_uuid": "8ff5a80a22d046c5ca1cb27e938c757b607551d2"
   },
   "outputs": [],
   "source": [
    "Y_pred = model.predict(X_valid).clip(0, 20)\n",
    "Y_test = model.predict(X_test).clip(0, 20)\n",
    "\n",
    "X_train_level2 = pd.DataFrame({\n",
    "    \"ID\": np.arange(Y_pred.shape[0]), \n",
    "    \"item_cnt_month\": Y_pred\n",
    "})\n",
    "X_train_level2.to_csv('../output/lgb_valid.csv', index=False)\n",
    "\n",
    "submission = pd.DataFrame({\n",
    "    \"ID\": np.arange(Y_test.shape[0]), \n",
    "    \"item_cnt_month\": Y_test\n",
    "})\n",
    "submission.to_csv('../output/lgb_submission.csv', index=False)"
   ]
  },
  {
   "cell_type": "markdown",
   "metadata": {},
   "source": [
    "public LB score: 0.90501"
   ]
  },
  {
   "cell_type": "code",
   "execution_count": null,
   "metadata": {},
   "outputs": [],
   "source": []
  }
 ],
 "metadata": {
  "kernelspec": {
   "display_name": "Python 3",
   "language": "python",
   "name": "python3"
  },
  "language_info": {
   "codemirror_mode": {
    "name": "ipython",
    "version": 3
   },
   "file_extension": ".py",
   "mimetype": "text/x-python",
   "name": "python",
   "nbconvert_exporter": "python",
   "pygments_lexer": "ipython3",
   "version": "3.6.5"
  }
 },
 "nbformat": 4,
 "nbformat_minor": 1
}
