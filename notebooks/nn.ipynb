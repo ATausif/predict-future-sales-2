{
 "cells": [
  {
   "cell_type": "markdown",
   "metadata": {
    "_uuid": "55f0ed2ac468f0eb59c24726ca0c9bdc8884c345"
   },
   "source": [
    "This notebook fit multilayer neural network and dump results (as second level feature) to file for later ensembling. "
   ]
  },
  {
   "cell_type": "code",
   "execution_count": 1,
   "metadata": {
    "_cell_guid": "b1076dfc-b9ad-4769-8c92-a6c4dae69d19",
    "_uuid": "8f2839f25d086af736a60e9eeb907d3b93b6e0e5"
   },
   "outputs": [
    {
     "name": "stderr",
     "output_type": "stream",
     "text": [
      "Using TensorFlow backend.\n"
     ]
    },
    {
     "data": {
      "text/plain": [
       "sys.version_info(major=3, minor=6, micro=5, releaselevel='final', serial=0)"
      ]
     },
     "execution_count": 1,
     "metadata": {},
     "output_type": "execute_result"
    }
   ],
   "source": [
    "import numpy as np\n",
    "import pandas as pd\n",
    "from sklearn.metrics import mean_squared_error\n",
    "from keras.models import Model\n",
    "from keras.layers import Input, Dense, Dropout\n",
    "from keras.regularizers import l2, l1\n",
    "from keras.optimizers import RMSprop, Adam\n",
    "from tensorflow import set_random_seed\n",
    "set_random_seed(23333)\n",
    "np.random.seed(233333)\n",
    "\n",
    "import time\n",
    "import sys\n",
    "import gc\n",
    "import pickle\n",
    "sys.version_info"
   ]
  },
  {
   "cell_type": "markdown",
   "metadata": {
    "_uuid": "b69932efb440af8f6435f3cd802fbcd15682af71",
    "collapsed": true
   },
   "source": [
    "## Read data from file, select features."
   ]
  },
  {
   "cell_type": "code",
   "execution_count": 2,
   "metadata": {
    "_uuid": "a54364495b1818e9f069efa0c53500bf9e21d5f9"
   },
   "outputs": [],
   "source": [
    "data = pd.read_pickle('../output/data.pkl')\n",
    "# do not use ID features\n",
    "data = data[[\n",
    "    'date_block_num',\n",
    "    #'shop_id',\n",
    "    #'item_id',\n",
    "    'item_cnt_month',\n",
    "    #'city_code',\n",
    "    #'item_category_id',\n",
    "    #'type_code','subtype_code',\n",
    "    'item_cnt_month_lag_1','item_cnt_month_lag_2','item_cnt_month_lag_3','item_cnt_month_lag_6','item_cnt_month_lag_12',\n",
    "    'item_avg_sale_last_6', 'item_std_sale_last_6',\n",
    "    'item_avg_sale_last_12', 'item_std_sale_last_12',\n",
    "    'shop_avg_sale_last_6', 'shop_std_sale_last_6',\n",
    "    'shop_avg_sale_last_12', 'shop_std_sale_last_12',\n",
    "    'category_avg_sale_last_12', 'category_std_sale_last_12',\n",
    "    'city_avg_sale_last_12', 'city_std_sale_last_12',\n",
    "    'type_avg_sale_last_12', 'type_std_sale_last_12',\n",
    "    'subtype_avg_sale_last_12', 'subtype_std_sale_last_12',\n",
    "    'date_avg_item_cnt_lag_1',\n",
    "    'date_item_avg_item_cnt_lag_1','date_item_avg_item_cnt_lag_2','date_item_avg_item_cnt_lag_3','date_item_avg_item_cnt_lag_6','date_item_avg_item_cnt_lag_12',\n",
    "    'date_shop_avg_item_cnt_lag_1','date_shop_avg_item_cnt_lag_2','date_shop_avg_item_cnt_lag_3','date_shop_avg_item_cnt_lag_6','date_shop_avg_item_cnt_lag_12',\n",
    "    'date_cat_avg_item_cnt_lag_1',\n",
    "    'date_shop_cat_avg_item_cnt_lag_1',\n",
    "    'date_city_avg_item_cnt_lag_1',\n",
    "    'date_item_city_avg_item_cnt_lag_1',\n",
    "    'delta_price_lag',\n",
    "    'month','year',\n",
    "    'item_shop_last_sale','item_last_sale',\n",
    "    'item_shop_first_sale','item_first_sale',\n",
    "]]"
   ]
  },
  {
   "cell_type": "markdown",
   "metadata": {
    "_uuid": "11eb4f2f5ada18aa8993ec55e8c63e80758fc19e"
   },
   "source": [
    "## Set up validation strategy\n",
    "\n",
    "Validation strategy is 34 month for the test set, 33 month for the validation set and 13-32 months for the train."
   ]
  },
  {
   "cell_type": "code",
   "execution_count": 3,
   "metadata": {
    "_uuid": "9af76d7b80064573a453e5e10c35b76fc31c47a4"
   },
   "outputs": [],
   "source": [
    "X_train = data[data.date_block_num < 33].drop(['item_cnt_month'], axis=1)\n",
    "Y_train = data[data.date_block_num < 33]['item_cnt_month']\n",
    "X_valid = data[data.date_block_num == 33].drop(['item_cnt_month'], axis=1)\n",
    "Y_valid = data[data.date_block_num == 33]['item_cnt_month']\n",
    "X_test = data[data.date_block_num == 34].drop(['item_cnt_month'], axis=1)\n",
    "\n",
    "del data\n",
    "gc.collect();"
   ]
  },
  {
   "cell_type": "markdown",
   "metadata": {
    "_uuid": "65da4e1e31a61cef33589b4a7cf3205137ad9f39"
   },
   "source": [
    "## Neural Network"
   ]
  },
  {
   "cell_type": "code",
   "execution_count": 4,
   "metadata": {},
   "outputs": [
    {
     "name": "stdout",
     "output_type": "stream",
     "text": [
      "Train on 6186922 samples, validate on 238172 samples\n",
      "Epoch 1/5\n",
      "6186922/6186922 [==============================] - 25s 4us/step - loss: 0.9759 - mean_squared_error: 0.9336 - val_loss: 0.9587 - val_mean_squared_error: 0.9115\n",
      "Epoch 2/5\n",
      "6186922/6186922 [==============================] - 24s 4us/step - loss: 0.8561 - mean_squared_error: 0.8114 - val_loss: 0.9578 - val_mean_squared_error: 0.9142\n",
      "Epoch 3/5\n",
      "6186922/6186922 [==============================] - 24s 4us/step - loss: 0.8494 - mean_squared_error: 0.8062 - val_loss: 0.9415 - val_mean_squared_error: 0.8988\n",
      "Epoch 4/5\n",
      "6186922/6186922 [==============================] - 24s 4us/step - loss: 0.8467 - mean_squared_error: 0.8035 - val_loss: 0.9388 - val_mean_squared_error: 0.8950\n",
      "Epoch 5/5\n",
      "6186922/6186922 [==============================] - 25s 4us/step - loss: 0.8455 - mean_squared_error: 0.8016 - val_loss: 0.9423 - val_mean_squared_error: 0.8979\n"
     ]
    },
    {
     "data": {
      "text/plain": [
       "<keras.callbacks.History at 0x13fecf4e0>"
      ]
     },
     "execution_count": 4,
     "metadata": {},
     "output_type": "execute_result"
    }
   ],
   "source": [
    "# define model\n",
    "def Sales_prediction_model(input_shape):\n",
    "    in_layer = Input(input_shape)\n",
    "    x = Dense(16,kernel_initializer='RandomUniform', kernel_regularizer=l2(0.02), activation = \"relu\")(in_layer)\n",
    "    x = Dense(8, kernel_initializer='RandomUniform', kernel_regularizer=l2(0.02), activation = \"relu\")(x)\n",
    "    x = Dense(1, kernel_initializer='RandomUniform', kernel_regularizer=l2(0.02), activation = \"relu\")(x)\n",
    "    \n",
    "    model = Model(inputs = in_layer, outputs = x, name='Sales_prediction_model')\n",
    "    return model\n",
    "\n",
    "# NN cannot take missing values, fill NaN with 0.\n",
    "X_train.fillna(0,inplace=True)\n",
    "X_valid.fillna(0,inplace=True)\n",
    "X_test.fillna(0,inplace=True)\n",
    "\n",
    "# We do no feature scaling here. \n",
    "# Some features like 'item_avg_sale_last_6' are already scaled in feature engineering part.\n",
    "\n",
    "input_shape = [X_train.shape[1]]\n",
    "model = Sales_prediction_model(input_shape)\n",
    "model.compile(optimizer = Adam(lr=0.0005) , loss = [\"mse\"], metrics=['mse'])\n",
    "model.fit(X_train, Y_train, validation_data = (X_valid, Y_valid), batch_size = 10000, epochs=5)"
   ]
  },
  {
   "cell_type": "code",
   "execution_count": 5,
   "metadata": {
    "_uuid": "8ff5a80a22d046c5ca1cb27e938c757b607551d2"
   },
   "outputs": [],
   "source": [
    "Y_pred = model.predict(X_valid).clip(0, 20)[:,0]\n",
    "Y_test = model.predict(X_test).clip(0, 20)[:,0]\n",
    "\n",
    "X_train_level2 = pd.DataFrame({\n",
    "    \"ID\": np.arange(Y_pred.shape[0]), \n",
    "    \"item_cnt_month\": Y_pred\n",
    "})\n",
    "X_train_level2.to_csv('../output/nn_valid.csv', index=False)\n",
    "\n",
    "submission = pd.DataFrame({\n",
    "    \"ID\": np.arange(Y_test.shape[0]), \n",
    "    \"item_cnt_month\": Y_test\n",
    "})\n",
    "submission.to_csv('../output/nn_submission.csv', index=False)"
   ]
  },
  {
   "cell_type": "markdown",
   "metadata": {},
   "source": [
    "public LB score: 0.99123"
   ]
  },
  {
   "cell_type": "code",
   "execution_count": null,
   "metadata": {},
   "outputs": [],
   "source": []
  }
 ],
 "metadata": {
  "kernelspec": {
   "display_name": "Python 3",
   "language": "python",
   "name": "python3"
  },
  "language_info": {
   "codemirror_mode": {
    "name": "ipython",
    "version": 3
   },
   "file_extension": ".py",
   "mimetype": "text/x-python",
   "name": "python",
   "nbconvert_exporter": "python",
   "pygments_lexer": "ipython3",
   "version": "3.6.5"
  }
 },
 "nbformat": 4,
 "nbformat_minor": 1
}
