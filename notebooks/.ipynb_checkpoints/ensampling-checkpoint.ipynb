{
 "cells": [
  {
   "cell_type": "markdown",
   "metadata": {
    "_uuid": "55f0ed2ac468f0eb59c24726ca0c9bdc8884c345"
   },
   "source": [
    "Ensembling with simple weighted average and linear regression"
   ]
  },
  {
   "cell_type": "code",
   "execution_count": null,
   "metadata": {
    "_cell_guid": "b1076dfc-b9ad-4769-8c92-a6c4dae69d19",
    "_uuid": "8f2839f25d086af736a60e9eeb907d3b93b6e0e5"
   },
   "outputs": [],
   "source": [
    "import numpy as np\n",
    "import pandas as pd\n",
    "from sklearn.metrics import mean_squared_error\n",
    "from sklearn.linear_model import Ridge, LinearRegression"
   ]
  },
  {
   "cell_type": "code",
   "execution_count": null,
   "metadata": {
    "_uuid": "f0a1c729d4fb3d6609f9dfb163ebe92fa9dc654c"
   },
   "outputs": [],
   "source": [
    "n_model = 3"
   ]
  },
  {
   "cell_type": "markdown",
   "metadata": {
    "_uuid": "b37f26889499cbd5df4e44d235e35491d00b09cb"
   },
   "source": [
    "### Create space for second level training"
   ]
  },
  {
   "cell_type": "code",
   "execution_count": null,
   "metadata": {
    "_uuid": "6ea5437e8949db6d3e54e68b7b0c18cd0befe38c"
   },
   "outputs": [],
   "source": [
    "X_train_level2 = pd.DataFrame(np.zeros([X_valid.shape[0],0]))\n",
    "Y_train_level2 = Y_valid\n",
    "X_test_level2 = pd.DataFrame(np.zeros([X_test.shape[0],0]))"
   ]
  },
  {
   "cell_type": "code",
   "execution_count": null,
   "metadata": {
    "_uuid": "a9a893ea58cdef774c250bff83151f83db235cd5"
   },
   "outputs": [],
   "source": [
    "#simple weighted average\n",
    "Y_pred_level2 = 0.8*X_train_level2['lgb'] + 0.2*X_train_level2['xgb']\n",
    "Y_test_level2 = 0.8*X_test_level2['lgb'] + 0.2*X_test_level2['xgb']\n",
    "rmse = np.sqrt(mean_squared_error(Y_train_level2, Y_pred_level2))\n",
    "print('simple average of lgb and xgb validation rmse: ',rmse)\n",
    "submission = pd.DataFrame({\n",
    "    \"ID\": test.index, \n",
    "    \"item_cnt_month\": Y_test_level2\n",
    "})\n",
    "submission.to_csv('blended_submission1.csv', index=False)\n",
    "\n",
    "#Linear regression\n",
    "model = LinearRegression()\n",
    "model.fit(X_train_level2, Y_train_level2)\n",
    "Y_pred_level2 = model.predict(X_train_level2)\n",
    "Y_test_level2 = model.predict(X_test_level2)\n",
    "rmse = np.sqrt(mean_squared_error(Y_train_level2, Y_pred_level2))\n",
    "print('Linear regression validation rmse: ',rmse)\n",
    "submission = pd.DataFrame({\n",
    "    \"ID\": test.index, \n",
    "    \"item_cnt_month\": Y_test_level2\n",
    "})\n",
    "submission.to_csv('blended_submission2.csv', index=False)"
   ]
  }
 ],
 "metadata": {
  "kernelspec": {
   "display_name": "Python 3",
   "language": "python",
   "name": "python3"
  },
  "language_info": {
   "codemirror_mode": {
    "name": "ipython",
    "version": 3
   },
   "file_extension": ".py",
   "mimetype": "text/x-python",
   "name": "python",
   "nbconvert_exporter": "python",
   "pygments_lexer": "ipython3",
   "version": "3.6.5"
  }
 },
 "nbformat": 4,
 "nbformat_minor": 1
}
