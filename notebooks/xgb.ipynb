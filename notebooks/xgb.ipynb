{
 "cells": [
  {
   "cell_type": "markdown",
   "metadata": {
    "_uuid": "55f0ed2ac468f0eb59c24726ca0c9bdc8884c345"
   },
   "source": [
    "This notebook fit XGBMRegressor and dump results (as second level feature) to file for later ensembling. "
   ]
  },
  {
   "cell_type": "code",
   "execution_count": 1,
   "metadata": {
    "_cell_guid": "b1076dfc-b9ad-4769-8c92-a6c4dae69d19",
    "_uuid": "8f2839f25d086af736a60e9eeb907d3b93b6e0e5"
   },
   "outputs": [
    {
     "data": {
      "text/plain": [
       "sys.version_info(major=3, minor=6, micro=5, releaselevel='final', serial=0)"
      ]
     },
     "execution_count": 1,
     "metadata": {},
     "output_type": "execute_result"
    }
   ],
   "source": [
    "import numpy as np\n",
    "import pandas as pd\n",
    "from xgboost import XGBRegressor\n",
    "\n",
    "import time\n",
    "import sys\n",
    "import gc\n",
    "import pickle\n",
    "sys.version_info"
   ]
  },
  {
   "cell_type": "markdown",
   "metadata": {
    "_uuid": "b69932efb440af8f6435f3cd802fbcd15682af71",
    "collapsed": true
   },
   "source": [
    "## Read data from file, select features."
   ]
  },
  {
   "cell_type": "code",
   "execution_count": 2,
   "metadata": {
    "_uuid": "a54364495b1818e9f069efa0c53500bf9e21d5f9"
   },
   "outputs": [],
   "source": [
    "data = pd.read_pickle('../output/data.pkl')\n",
    "\n",
    "data = data[[\n",
    "    'date_block_num',\n",
    "    'shop_id',\n",
    "    'item_id',\n",
    "    'item_cnt_month',\n",
    "    'city_code',\n",
    "    'item_category_id',\n",
    "    'type_code','subtype_code',\n",
    "    'item_cnt_month_lag_1','item_cnt_month_lag_2','item_cnt_month_lag_3','item_cnt_month_lag_6','item_cnt_month_lag_12',\n",
    "    'item_avg_sale_last_6', 'item_std_sale_last_6',\n",
    "    'item_avg_sale_last_12', 'item_std_sale_last_12',\n",
    "    'shop_avg_sale_last_6', 'shop_std_sale_last_6',\n",
    "    'shop_avg_sale_last_12', 'shop_std_sale_last_12',\n",
    "    'category_avg_sale_last_12', 'category_std_sale_last_12',\n",
    "    'city_avg_sale_last_12', 'city_std_sale_last_12',\n",
    "    'type_avg_sale_last_12', 'type_std_sale_last_12',\n",
    "    'subtype_avg_sale_last_12', 'subtype_std_sale_last_12',\n",
    "    'date_avg_item_cnt_lag_1',\n",
    "    'date_item_avg_item_cnt_lag_1','date_item_avg_item_cnt_lag_2','date_item_avg_item_cnt_lag_3','date_item_avg_item_cnt_lag_6','date_item_avg_item_cnt_lag_12',\n",
    "    'date_shop_avg_item_cnt_lag_1','date_shop_avg_item_cnt_lag_2','date_shop_avg_item_cnt_lag_3','date_shop_avg_item_cnt_lag_6','date_shop_avg_item_cnt_lag_12',\n",
    "    'date_cat_avg_item_cnt_lag_1',\n",
    "    'date_shop_cat_avg_item_cnt_lag_1',\n",
    "    'date_city_avg_item_cnt_lag_1',\n",
    "    'date_item_city_avg_item_cnt_lag_1',\n",
    "    'delta_price_lag',\n",
    "    'month','year',\n",
    "    'item_shop_last_sale','item_last_sale',\n",
    "    'item_shop_first_sale','item_first_sale',\n",
    "]]"
   ]
  },
  {
   "cell_type": "markdown",
   "metadata": {
    "_uuid": "11eb4f2f5ada18aa8993ec55e8c63e80758fc19e"
   },
   "source": [
    "## Set up validation strategy\n",
    "\n",
    "Validation strategy is 34 month for the test set, 33 month for the validation set and 13-32 months for the train."
   ]
  },
  {
   "cell_type": "code",
   "execution_count": 4,
   "metadata": {
    "_uuid": "9af76d7b80064573a453e5e10c35b76fc31c47a4"
   },
   "outputs": [],
   "source": [
    "X_train = data[data.date_block_num < 33].drop(['item_cnt_month'], axis=1)\n",
    "Y_train = data[data.date_block_num < 33]['item_cnt_month']\n",
    "X_valid = data[data.date_block_num == 33].drop(['item_cnt_month'], axis=1)\n",
    "Y_valid = data[data.date_block_num == 33]['item_cnt_month']\n",
    "X_test = data[data.date_block_num == 34].drop(['item_cnt_month'], axis=1)\n",
    "\n",
    "del data\n",
    "gc.collect();"
   ]
  },
  {
   "cell_type": "markdown",
   "metadata": {
    "_uuid": "65da4e1e31a61cef33589b4a7cf3205137ad9f39"
   },
   "source": [
    "## XGBoost"
   ]
  },
  {
   "cell_type": "code",
   "execution_count": 5,
   "metadata": {
    "_uuid": "acef75c36501f808d45f81fc69f9708fc3283bc3"
   },
   "outputs": [
    {
     "name": "stdout",
     "output_type": "stream",
     "text": [
      "[0]\tvalidation_0-rmse:1.15343\tvalidation_1-rmse:1.12026\n",
      "Multiple eval metrics have been passed: 'validation_1-rmse' will be used for early stopping.\n",
      "\n",
      "Will train until validation_1-rmse hasn't improved in 40 rounds.\n",
      "[10]\tvalidation_0-rmse:0.903358\tvalidation_1-rmse:0.944456\n",
      "[20]\tvalidation_0-rmse:0.849589\tvalidation_1-rmse:0.912442\n",
      "[30]\tvalidation_0-rmse:0.832662\tvalidation_1-rmse:0.906915\n",
      "[40]\tvalidation_0-rmse:0.824349\tvalidation_1-rmse:0.905784\n",
      "[50]\tvalidation_0-rmse:0.81851\tvalidation_1-rmse:0.907106\n",
      "[60]\tvalidation_0-rmse:0.814083\tvalidation_1-rmse:0.907069\n",
      "[70]\tvalidation_0-rmse:0.810025\tvalidation_1-rmse:0.906016\n",
      "[80]\tvalidation_0-rmse:0.806955\tvalidation_1-rmse:0.905895\n",
      "[90]\tvalidation_0-rmse:0.804255\tvalidation_1-rmse:0.9049\n",
      "[100]\tvalidation_0-rmse:0.801693\tvalidation_1-rmse:0.9047\n",
      "[110]\tvalidation_0-rmse:0.79933\tvalidation_1-rmse:0.904087\n",
      "[120]\tvalidation_0-rmse:0.797564\tvalidation_1-rmse:0.90373\n",
      "[130]\tvalidation_0-rmse:0.795422\tvalidation_1-rmse:0.902287\n",
      "[140]\tvalidation_0-rmse:0.793754\tvalidation_1-rmse:0.901828\n",
      "[150]\tvalidation_0-rmse:0.792047\tvalidation_1-rmse:0.901554\n",
      "[160]\tvalidation_0-rmse:0.790031\tvalidation_1-rmse:0.902298\n",
      "[170]\tvalidation_0-rmse:0.788605\tvalidation_1-rmse:0.90227\n",
      "[180]\tvalidation_0-rmse:0.787068\tvalidation_1-rmse:0.903109\n",
      "[190]\tvalidation_0-rmse:0.786027\tvalidation_1-rmse:0.90341\n",
      "Stopping. Best iteration:\n",
      "[152]\tvalidation_0-rmse:0.791624\tvalidation_1-rmse:0.901226\n",
      "\n"
     ]
    },
    {
     "data": {
      "text/plain": [
       "4407.859105825424"
      ]
     },
     "execution_count": 5,
     "metadata": {},
     "output_type": "execute_result"
    }
   ],
   "source": [
    "ts = time.time()\n",
    "\n",
    "model = XGBRegressor(\n",
    "    max_depth=7,\n",
    "    n_estimators=1000,\n",
    "    min_child_weight=300, \n",
    "    colsample_bytree=0.8, \n",
    "    subsample=0.8, \n",
    "    gamma = 0.005,\n",
    "    eta=0.1,    \n",
    "    seed=42)\n",
    "\n",
    "model.fit(\n",
    "    X_train, \n",
    "    Y_train, \n",
    "    eval_metric=\"rmse\", \n",
    "    eval_set=[(X_train, Y_train), (X_valid, Y_valid)], \n",
    "    verbose=10, \n",
    "    early_stopping_rounds = 40,\n",
    "    )\n",
    "\n",
    "time.time() - ts"
   ]
  },
  {
   "cell_type": "code",
   "execution_count": 6,
   "metadata": {
    "_uuid": "8ff5a80a22d046c5ca1cb27e938c757b607551d2"
   },
   "outputs": [],
   "source": [
    "Y_pred = model.predict(X_valid).clip(0, 20)\n",
    "Y_test = model.predict(X_test).clip(0, 20)\n",
    "\n",
    "X_train_level2 = pd.DataFrame({\n",
    "    \"ID\": np.arange(Y_pred.shape[0]), \n",
    "    \"item_cnt_month\": Y_pred\n",
    "})\n",
    "X_train_level2.to_csv('../output/xgb_valid.csv', index=False)\n",
    "\n",
    "submission = pd.DataFrame({\n",
    "    \"ID\": np.arange(Y_test.shape[0]), \n",
    "    \"item_cnt_month\": Y_test\n",
    "})\n",
    "submission.to_csv('../output/xgb_submission.csv', index=False)"
   ]
  },
  {
   "cell_type": "markdown",
   "metadata": {},
   "source": [
    "public score: 0.916"
   ]
  },
  {
   "cell_type": "code",
   "execution_count": null,
   "metadata": {},
   "outputs": [],
   "source": []
  }
 ],
 "metadata": {
  "kernelspec": {
   "display_name": "Python 3",
   "language": "python",
   "name": "python3"
  },
  "language_info": {
   "codemirror_mode": {
    "name": "ipython",
    "version": 3
   },
   "file_extension": ".py",
   "mimetype": "text/x-python",
   "name": "python",
   "nbconvert_exporter": "python",
   "pygments_lexer": "ipython3",
   "version": "3.6.5"
  }
 },
 "nbformat": 4,
 "nbformat_minor": 1
}
